{
 "cells": [
  {
   "cell_type": "markdown",
   "id": "1120014b",
   "metadata": {},
   "source": [
    "## Pregunta 7"
   ]
  },
  {
   "cell_type": "markdown",
   "id": "6665414d",
   "metadata": {},
   "source": [
    "\n",
    "La forma analitica de las distancias es:\n",
    "\n",
    "$$D_{A}(z) = \\frac{f_{k}(\\chi)}{1 + z} , \\space D_{L} = (1+z) f_{k}(\\chi)$$\n",
    "\n",
    "donde:\n",
    "$$ \\chi(z) = \\int_{0}^{z} \\frac{dx}{E(x)} , \\space E(z) = \\frac{H(z)}{H_{0}}$$\n",
    "\n",
    "La funcion de curvatura $f_{k}(\\chi)$:\n",
    "\n",
    "\n",
    "$$\n",
    "f_{k}(\\chi) = \n",
    "\\begin{cases}\n",
    "\\dfrac{c}{H_{0}\\sqrt{\\Omega_{K,0}}}\\;\n",
    "\\sinh\\!\\Big(\\sqrt{\\Omega_{K,0}}\\;\\chi\\Big), & \\Omega_{K,0} >0 \\\\\n",
    "\\dfrac{c}{H_{0}}\\;\\chi & \\Omega_{K,0} = 0, \\\\\n",
    "\\dfrac{c}{H_{0}\\sqrt{-\\Omega_{K,0}}}\\;\n",
    "\\sin\\!\\Big(\\sqrt{-\\Omega_{K,0}}\\;\\chi\\Big), & \\Omega_{K,0} < 0.\n",
    "\n",
    "\\end{cases}\n",
    "$$\n",
    "Con un componente de radiacion, materia, energia oscura (con ecuacion de estado w) y curvatura\n",
    "$$\n",
    "H^{2}(z) = H_{0}^{2} \\left[ \\Omega_{r,0}(1 +z )^{4} + \\Omega_{m,0}(1 +z)^{3} + \\Omega_{\\Lambda,0}(1 +z)^{3(1+\\omega)} + \\Omega_{K,0}(1+z)^{2}\\right]\n",
    "$$"
   ]
  },
  {
   "cell_type": "code",
   "execution_count": 226,
   "id": "10c6977c",
   "metadata": {},
   "outputs": [],
   "source": [
    "import numpy as np\n",
    "import matplotlib.pyplot as plt\n",
    "from scipy.integrate import quad\n"
   ]
  },
  {
   "cell_type": "code",
   "execution_count": 227,
   "id": "38aa8276",
   "metadata": {},
   "outputs": [],
   "source": [
    "h0 = 67.4\n",
    "c = 300000          #km/s\n",
    "w = -1\n",
    "# omega_k = 0\n",
    "#omega_r = omega_r*(1 +z)**4 "
   ]
  },
  {
   "cell_type": "code",
   "execution_count": 235,
   "id": "871b822c",
   "metadata": {},
   "outputs": [],
   "source": [
    "def H2_z(z,omega_m, omega_lambda):\n",
    "    if w==-1:\n",
    "        return  (h0**2)*(omega_m*(1+z)**3 + (omega_k(omega_m, omega_lambda))*(1 +z)**2 + omega_lambda)\n",
    "    else:\n",
    "        return (h0**2)*(omega_m*(1+z)**3 + (omega_k(omega_m, omega_lambda))*(1 +z)**2 + omega_lambda*(1+z)**(3*(1+w)))\n",
    "\n",
    "# def d_A(fk,z):\n",
    "#     return fk/(1+z)\n",
    "\n",
    "# def d_L(fk,z):\n",
    "#     return (1 +z)*fk\n",
    "def omega_k(omega_m, omega_lambda):\n",
    "    return 1 - omega_m -omega_lambda\n",
    "\n",
    "def E_z(z,  omega_m, omega_lambda):\n",
    "    return np.sqrt(H2_z(z, omega_m, omega_lambda))/h0\n",
    "\n",
    "def chi(z,omega_m, omega_lambda):\n",
    "\n",
    "    dz = np.diff(z)[-1]\n",
    "    return np.cumsum(dz/E_z(z, omega_m, omega_lambda))[-1]\n",
    "\n",
    "# def chi(z, omega_m, omega_lambda):\n",
    "#     # print(omega_m)\n",
    "#     def integrand(z):\n",
    "#         return  1.0 / E_z(z, omega_m, omega_lambda)\n",
    "#     integral, _ = quad( integrand, z[0],z[-1])\n",
    "#     return integral\n",
    "def f_k(z, omega_m, omega_lambda):\n",
    "    \n",
    "\n",
    "    f = np.zeros(shape=(len(omega_m), len(omega_lambda)))\n",
    "    # print(f)\n",
    "\n",
    "    for i in range(len(omega_m)):\n",
    "        for j in range(len(omega_lambda)):\n",
    "\n",
    "            o_k = omega_k(omega_m[i], omega_lambda[j])\n",
    "            # print(o_k)\n",
    "            # print(o_k)\n",
    "\n",
    "            if o_k < 0:\n",
    "                term1 = c/(h0* np.sqrt(-o_k)) *np.sin(np.sqrt(-o_k)* chi(z,omega_m[i], omega_lambda[j]))\n",
    "                # print('case 1')\n",
    "            \n",
    "            if o_k == 0:\n",
    "                term1 = c/(h0) *chi(z,omega_m[i], omega_lambda[j])\n",
    "                # print('case 2')\n",
    "            \n",
    "            if o_k > 0:\n",
    "                term1 =  c/(h0* np.sqrt(o_k)) *np.sinh(np.sqrt(o_k)* chi(z,omega_m[i], omega_lambda[j]))\n",
    "                # print('case 3')\n",
    "    \n",
    "            f[j,i]=  term1\n",
    "            # print(term1)\n",
    "            # print(f)\n",
    "    \n",
    "    return f"
   ]
  },
  {
   "cell_type": "code",
   "execution_count": 251,
   "id": "b2ecc7c7",
   "metadata": {},
   "outputs": [],
   "source": [
    "omega_m = np.linspace(-1, 3,100)\n",
    "omega_lambda = np.linspace(-1,3, 100)"
   ]
  },
  {
   "cell_type": "code",
   "execution_count": 275,
   "id": "6e87d47f",
   "metadata": {},
   "outputs": [
    {
     "name": "stderr",
     "output_type": "stream",
     "text": [
      "/var/folders/lp/pz0pr1y55xvbxt8nxcc4sl100000gn/T/ipykernel_2884/4125483880.py:16: RuntimeWarning: invalid value encountered in sqrt\n",
      "  return np.sqrt(H2_z(z, omega_m, omega_lambda))/h0\n"
     ]
    }
   ],
   "source": [
    "z = np.linspace(0.0001,30,100)\n",
    "fk = f_k(z,omega_m, omega_lambda)"
   ]
  },
  {
   "cell_type": "code",
   "execution_count": 276,
   "id": "607bf633",
   "metadata": {},
   "outputs": [
    {
     "name": "stderr",
     "output_type": "stream",
     "text": [
      "/var/folders/lp/pz0pr1y55xvbxt8nxcc4sl100000gn/T/ipykernel_2884/1343661611.py:2: RuntimeWarning: invalid value encountered in log10\n",
      "  plt.contourf(omega_m, omega_lambda,np.log10(fk))\n"
     ]
    },
    {
     "data": {
      "image/png": "[encoded data removed]",
      "text/plain": [
       "<Figure size 700x800 with 2 Axes>"
      ]
     },
     "metadata": {},
     "output_type": "display_data"
    }
   ],
   "source": [
    "plt.figure(figsize=(7,8))\n",
    "plt.contourf(omega_m, omega_lambda,np.log10(fk))\n",
    "plt.colorbar()\n",
    "plt.xlabel(r'$\\Omega_{m}$')\n",
    "plt.ylabel(r'$\\Omega_{DE}$')\n",
    "plt.show()\n",
    "# plt.imshow(np.log10(fk), origin='lower')"
   ]
  },
  {
   "cell_type": "code",
   "execution_count": null,
   "id": "1b84bfba",
   "metadata": {},
   "outputs": [],
   "source": []
  }
 ],
 "metadata": {
  "kernelspec": {
   "display_name": "physics",
   "language": "python",
   "name": "python3"
  },
  "language_info": {
   "codemirror_mode": {
    "name": "ipython",
    "version": 3
   },
   "file_extension": ".py",
   "mimetype": "text/x-python",
   "name": "python",
   "nbconvert_exporter": "python",
   "pygments_lexer": "ipython3",
   "version": "3.13.1"
  }
 },
 "nbformat": 4,
 "nbformat_minor": 5
}
