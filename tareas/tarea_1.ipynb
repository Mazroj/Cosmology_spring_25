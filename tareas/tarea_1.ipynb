{
 "cells": [
  {
   "cell_type": "markdown",
   "id": "6665414d",
   "metadata": {},
   "source": [
    "\n",
    "La forma analitica de las distancias es:\n",
    "\n",
    "$$D_{A}(z) = \\frac{f_{k}(\\chi)}{1 + z} , \\space D_{L} = (1+z) f_{k}(\\chi)$$\n",
    "\n",
    "donde:\n",
    "$$ \\chi(z) = \\int_{0}^{z} \\frac{dx}{E(x)} , \\space E(z) = \\frac{H(z)}{H_{0}}$$\n",
    "\n",
    "La funcion de curvatura $f_{k}(\\chi)$:\n",
    "\n",
    "\n",
    "$$\n",
    "f_{k}(\\chi) = \n",
    "\\begin{cases}\n",
    "\\dfrac{c}{H_{0}\\sqrt{\\Omega_{K,0}}}\\;\n",
    "\\sinh\\!\\Big(\\sqrt{\\Omega_{K,0}}\\;\\chi\\Big), & \\Omega_{K,0} >0 \\\\\n",
    "\\dfrac{c}{H_{0}}\\;\\chi & \\Omega_{K,0} = 0, \\\\\n",
    "\\dfrac{c}{H_{0}\\sqrt{-\\Omega_{K,0}}}\\;\n",
    "\\sin\\!\\Big(\\sqrt{-\\Omega_{K,0}}\\;\\chi\\Big), & \\Omega_{K,0} < 0.\n",
    "\n",
    "\\end{cases}\n",
    "$$\n",
    "Con un componente de radiacion, materia, energia oscura (con ecuacion de estado w) y curvatura\n",
    "$$\n",
    "H^{2}(z) = H_{0}^{2} \\left[ \\Omega_{r,0}(1 +z )^{4} + \\Omega_{m,0}(1 +z)^{3} + \\Omega_{\\Lambda,0}(1 +z)^{3(1+\\omega)} + \\Omega_{K,0}(1+z)^{2}\\right]\n",
    "$$"
   ]
  },
  {
   "cell_type": "code",
   "execution_count": 1,
   "id": "10c6977c",
   "metadata": {},
   "outputs": [],
   "source": [
    "import numpy as np\n",
    "import matplotlib.pyplot as plt\n"
   ]
  },
  {
   "cell_type": "code",
   "execution_count": 10,
   "id": "38aa8276",
   "metadata": {},
   "outputs": [],
   "source": [
    "h0 = 67.4\n",
    "c = 300000          #km/s\n",
    "w = -1\n",
    "# omega_k = 0\n",
    "#omega_r = omega_r*(1 +z)**4 "
   ]
  },
  {
   "cell_type": "code",
   "execution_count": null,
   "id": "871b822c",
   "metadata": {},
   "outputs": [],
   "source": [
    "def H2_z(z,omega_m, omega_lambda):\n",
    "    return (h0**2)*(omega_m*(1+z)**3 + (omega_k(omega_m, omega_lambda))*(1 +z)**2 + omega_lambda*(1+z)**(3*(1+w)))\n",
    "\n",
    "# def d_A(fk,z):\n",
    "#     return fk/(1+z)\n",
    "\n",
    "# def d_L(fk,z):\n",
    "#     return (1 +z)*fk\n",
    "def omega_k(omega_m, omega_lambda):\n",
    "    return 1 - omega_m -omega_lambda\n",
    "\n",
    "def E_z(z):\n",
    "    return np.sqrt(H2_z(z, omega_lambda=0.7, omega_m=0.3))/h0\n",
    "\n",
    "def chi(z):\n",
    "\n",
    "    dz = np.diff(z)[-1]\n",
    "    return np.cumsum(dz/E_z(z))\n",
    "\n",
    "def f_k(z, omega_lambda, omega_m):\n",
    "    \n",
    "\n",
    "    f = np.zeros(shape=(omega_m, omega_lambda))\n",
    "\n",
    "    o_k = omega_k(omega_m, omega_lambda)\n",
    "\n",
    "    if o_k < 0:\n",
    "        return c/(h0* np.sqrt(-o_k)) *np.sin(np.sqrt(-o_k)* chi(z))\n",
    "    \n",
    "    if o_k == 0:\n",
    "        return c/(h0) *chi(z)\n",
    "    \n",
    "    if o_k > 0:\n",
    "        return c/(h0* np.sqrt(o_k)) *np.sinh(np.sqrt(o_k)* chi(z))"
   ]
  },
  {
   "cell_type": "code",
   "execution_count": 21,
   "id": "b2ecc7c7",
   "metadata": {},
   "outputs": [],
   "source": [
    "omega_m = np.linspace(-1, 1, 100)\n",
    "omega_lambda = np.linspace(-1,1, 100)"
   ]
  },
  {
   "cell_type": "code",
   "execution_count": 22,
   "id": "6e87d47f",
   "metadata": {},
   "outputs": [
    {
     "ename": "ValueError",
     "evalue": "The truth value of an array with more than one element is ambiguous. Use a.any() or a.all()",
     "output_type": "error",
     "traceback": [
      "\u001b[0;31m---------------------------------------------------------------------------\u001b[0m",
      "\u001b[0;31mValueError\u001b[0m                                Traceback (most recent call last)",
      "Cell \u001b[0;32mIn[22], line 2\u001b[0m\n\u001b[1;32m      1\u001b[0m z \u001b[38;5;241m=\u001b[39m np\u001b[38;5;241m.\u001b[39marange(\u001b[38;5;241m0.001\u001b[39m,\u001b[38;5;241m3\u001b[39m,\u001b[38;5;241m0.001\u001b[39m)\n\u001b[0;32m----> 2\u001b[0m fk \u001b[38;5;241m=\u001b[39m \u001b[43mf_k\u001b[49m\u001b[43m(\u001b[49m\u001b[43mz\u001b[49m\u001b[43m,\u001b[49m\u001b[43momega_k\u001b[49m\u001b[43m(\u001b[49m\u001b[43momega_m\u001b[49m\u001b[43m,\u001b[49m\u001b[43m \u001b[49m\u001b[43momega_lambda\u001b[49m\u001b[43m)\u001b[49m\u001b[43m)\u001b[49m\n",
      "Cell \u001b[0;32mIn[11], line 22\u001b[0m, in \u001b[0;36mf_k\u001b[0;34m(z, o_k)\u001b[0m\n\u001b[1;32m     20\u001b[0m \u001b[38;5;28;01mdef\u001b[39;00m\u001b[38;5;250m \u001b[39m\u001b[38;5;21mf_k\u001b[39m(z, o_k):\n\u001b[0;32m---> 22\u001b[0m     \u001b[38;5;28;01mif\u001b[39;00m o_k \u001b[38;5;241m<\u001b[39m \u001b[38;5;241m0\u001b[39m:\n\u001b[1;32m     23\u001b[0m         \u001b[38;5;28;01mreturn\u001b[39;00m c\u001b[38;5;241m/\u001b[39m(h0\u001b[38;5;241m*\u001b[39m np\u001b[38;5;241m.\u001b[39msqrt(\u001b[38;5;241m-\u001b[39mo_k)) \u001b[38;5;241m*\u001b[39mnp\u001b[38;5;241m.\u001b[39msin(np\u001b[38;5;241m.\u001b[39msqrt(\u001b[38;5;241m-\u001b[39mo_k)\u001b[38;5;241m*\u001b[39m chi(z))\n\u001b[1;32m     25\u001b[0m     \u001b[38;5;28;01mif\u001b[39;00m o_k \u001b[38;5;241m==\u001b[39m \u001b[38;5;241m0\u001b[39m:\n",
      "\u001b[0;31mValueError\u001b[0m: The truth value of an array with more than one element is ambiguous. Use a.any() or a.all()"
     ]
    }
   ],
   "source": [
    "z = np.arange(0.001,3,0.001)\n",
    "fk = f_k(z,omega_k(omega_m, omega_lambda))"
   ]
  },
  {
   "cell_type": "code",
   "execution_count": 19,
   "id": "607bf633",
   "metadata": {},
   "outputs": [
    {
     "data": {
      "text/plain": [
       "[<matplotlib.lines.Line2D at 0x75053646c770>]"
      ]
     },
     "execution_count": 19,
     "metadata": {},
     "output_type": "execute_result"
    },
    {
     "data": {
      "image/png": "[encoded data removed]",
      "text/plain": [
       "<Figure size 640x480 with 1 Axes>"
      ]
     },
     "metadata": {},
     "output_type": "display_data"
    }
   ],
   "source": [
    "plt.plot(fk)"
   ]
  },
  {
   "cell_type": "code",
   "execution_count": null,
   "id": "92b99a4d",
   "metadata": {},
   "outputs": [],
   "source": []
  }
 ],
 "metadata": {
  "kernelspec": {
   "display_name": "physics",
   "language": "python",
   "name": "python3"
  },
  "language_info": {
   "codemirror_mode": {
    "name": "ipython",
    "version": 3
   },
   "file_extension": ".py",
   "mimetype": "text/x-python",
   "name": "python",
   "nbconvert_exporter": "python",
   "pygments_lexer": "ipython3",
   "version": "3.12.8"
  }
 },
 "nbformat": 4,
 "nbformat_minor": 5
}
